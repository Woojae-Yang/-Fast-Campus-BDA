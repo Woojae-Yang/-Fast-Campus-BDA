{
 "cells": [
  {
   "cell_type": "markdown",
   "id": "f9ec80fa",
   "metadata": {},
   "source": [
    "# 네이버 API를 이용한 Geocoding\n",
    "\n",
    "\n",
    "네이버 클라우드 플랫폼 - 콘솔 - Services - AI Naver API - Application 등록 - 이름 설정, Geocoding, Web 서비스 URL 추가 - 인증정보\n"
   ]
  },
  {
   "cell_type": "code",
   "execution_count": 3,
   "id": "e885d805",
   "metadata": {
    "ExecuteTime": {
     "end_time": "2022-10-27T10:54:01.374755Z",
     "start_time": "2022-10-27T10:54:01.365732Z"
    }
   },
   "outputs": [],
   "source": [
    "#사용 라이브러리\n",
    "import numpy as np\n",
    "import pandas as pd\n",
    "from urllib.request import urlopen\n",
    "from urllib import parse\n",
    "from urllib.request import Request\n",
    "from urllib.error import HTTPError\n",
    "from bs4 import BeautifulSoup\n",
    "import json"
   ]
  },
  {
   "cell_type": "code",
   "execution_count": 19,
   "id": "4e57644f",
   "metadata": {
    "ExecuteTime": {
     "end_time": "2022-10-27T12:50:05.406352Z",
     "start_time": "2022-10-27T12:50:02.787402Z"
    }
   },
   "outputs": [
    {
     "name": "stdout",
     "output_type": "stream",
     "text": [
      "Success!\n",
      "Success!\n",
      "Success!\n",
      "Success!\n",
      "Success!\n",
      "Success!\n",
      "Success!\n",
      "Success!\n",
      "Success!\n",
      "Success!\n",
      "Success!\n",
      "Success!\n",
      "Success!\n",
      "Success!\n",
      "Success!\n",
      "Success!\n",
      "Success!\n",
      "Success!\n",
      "Success!\n",
      "Success!\n",
      "Success!\n",
      "Success!\n",
      "Success!\n",
      "Success!\n",
      "Success!\n",
      "Success!\n",
      "Success!\n",
      "Success!\n",
      "Success!\n",
      "Success!\n"
     ]
    }
   ],
   "source": [
    "#naver map api key\n",
    "client_id = '6myikc3wz3';    # 본인이 할당받은 ID 입력\n",
    "client_pw = '5ROoVThQup2Kf6Gfcf6pfdSXHnrgQPLfa93nAcTA';    # 본인이 할당받은 Secret 입력\n",
    "\n",
    "api_url = 'https://naveropenapi.apigw.ntruss.com/map-geocode/v2/geocode?query='\n",
    "\n",
    "# 주소 목록 파일 (.csv)\n",
    "##data = pd.read_csv('파일명.csv')\n",
    "# 주소 목록 파일 (.xlsx)\n",
    "data = pd.read_excel('address_test.xlsx')\n",
    "\n",
    "# 네이버 지도 API 이용해서 위경도 찾기\n",
    "geo_coordi = []     \n",
    "for add in data['도로명주소']:\n",
    "    add_urlenc = parse.quote(add)  \n",
    "    url = api_url + add_urlenc\n",
    "    request = Request(url)\n",
    "    request.add_header('X-NCP-APIGW-API-KEY-ID', client_id)\n",
    "    request.add_header('X-NCP-APIGW-API-KEY', client_pw)\n",
    "    try:\n",
    "        response = urlopen(request)\n",
    "    except HTTPError as e:\n",
    "        print('HTTP Error!')\n",
    "        latitude = None\n",
    "        longitude = None\n",
    "    else:\n",
    "        rescode = response.getcode()\n",
    "        if rescode == 200:\n",
    "            response_body = response.read().decode('utf-8')\n",
    "            response_body = json.loads(response_body)   # json\n",
    "            if response_body['addresses'] == [] :\n",
    "                print(\"'result' not exist!\")\n",
    "                latitude = None\n",
    "                longitude = None\n",
    "            else:\n",
    "                latitude = response_body['addresses'][0]['y']\n",
    "                longitude = response_body['addresses'][0]['x']\n",
    "                print(\"Success!\")\n",
    "        else:\n",
    "            print('Response error code : %d' % rescode)\n",
    "            latitude = None\n",
    "            longitude = None\n",
    "\n",
    "    geo_coordi.append([latitude, longitude])\n",
    "\n",
    "\n",
    "np_geo_coordi = np.array(geo_coordi)\n",
    "pd_geo_coordi = pd.DataFrame({\"도로명\": data['도로명주소'].values,\n",
    "                              \"위도\": np_geo_coordi[:, 0],\n",
    "                              \"경도\": np_geo_coordi[:, 1]})\n",
    "\n",
    "pd_geo_coordi.to_csv('파일명2.csv', index=False, encoding='utf-8-sig')"
   ]
  },
  {
   "cell_type": "code",
   "execution_count": null,
   "id": "deed0a1d",
   "metadata": {},
   "outputs": [],
   "source": []
  },
  {
   "cell_type": "code",
   "execution_count": null,
   "id": "f5fe4f1f",
   "metadata": {},
   "outputs": [],
   "source": []
  },
  {
   "cell_type": "code",
   "execution_count": null,
   "id": "3f787494",
   "metadata": {},
   "outputs": [],
   "source": []
  }
 ],
 "metadata": {
  "kernelspec": {
   "display_name": "Python 3 (ipykernel)",
   "language": "python",
   "name": "python3"
  },
  "language_info": {
   "codemirror_mode": {
    "name": "ipython",
    "version": 3
   },
   "file_extension": ".py",
   "mimetype": "text/x-python",
   "name": "python",
   "nbconvert_exporter": "python",
   "pygments_lexer": "ipython3",
   "version": "3.9.12"
  },
  "toc": {
   "base_numbering": 1,
   "nav_menu": {},
   "number_sections": true,
   "sideBar": true,
   "skip_h1_title": false,
   "title_cell": "Table of Contents",
   "title_sidebar": "Contents",
   "toc_cell": false,
   "toc_position": {},
   "toc_section_display": true,
   "toc_window_display": false
  },
  "varInspector": {
   "cols": {
    "lenName": 16,
    "lenType": 16,
    "lenVar": 40
   },
   "kernels_config": {
    "python": {
     "delete_cmd_postfix": "",
     "delete_cmd_prefix": "del ",
     "library": "var_list.py",
     "varRefreshCmd": "print(var_dic_list())"
    },
    "r": {
     "delete_cmd_postfix": ") ",
     "delete_cmd_prefix": "rm(",
     "library": "var_list.r",
     "varRefreshCmd": "cat(var_dic_list()) "
    }
   },
   "types_to_exclude": [
    "module",
    "function",
    "builtin_function_or_method",
    "instance",
    "_Feature"
   ],
   "window_display": false
  }
 },
 "nbformat": 4,
 "nbformat_minor": 5
}
